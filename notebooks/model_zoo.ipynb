{
 "cells": [
  {
   "cell_type": "markdown",
   "id": "f48ba2a1",
   "metadata": {},
   "source": [
    "# Model Zoo Notebook\n",
    "\n",
    "This notebook demonstrates how to load a COCO-pretrained YOLO-NAS S model and export it to ONNX format using PyTorch and SuperGradients.\n",
    "\n",
    "**Important:**  \n",
    "This notebook must be executed first before running any other notebooks in this project. It prepares the model and exports it for further use.\n",
    "\n",
    "## How to Use\n",
    "\n",
    "1. **Build and start the Docker Compose environment** as described in the project documentation.\n",
    "2. **Access this notebook** in your browser at:  \n",
    "    [http://127.0.0.1:8889/notebooks/model_zoo.ipynb](http://127.0.0.1:8889/notebooks/model_zoo.ipynb)\n",
    "3. **Run all cells** in order to prepare the model for downstream tasks.\n",
    "\n",
    "Make sure to follow these steps to ensure the environment and model are set up correctly."
   ]
  },
  {
   "cell_type": "code",
   "execution_count": 1,
   "id": "ddf30e19",
   "metadata": {},
   "outputs": [
    {
     "name": "stderr",
     "output_type": "stream",
     "text": [
      "[2025-05-25 17:34:38] INFO - crash_tips_setup.py - Crash tips is enabled. You can set your environment variable to CRASH_HANDLER=FALSE to disable it\n"
     ]
    },
    {
     "name": "stdout",
     "output_type": "stream",
     "text": [
      "The console stream is logged into /root/sg_logs/console.log\n"
     ]
    },
    {
     "name": "stderr",
     "output_type": "stream",
     "text": [
      "[2025-05-25 17:34:40] INFO - font_manager.py - generated new fontManager\n"
     ]
    }
   ],
   "source": [
    "# Import necessary libraries.\n",
    "import torch\n",
    "\n",
    "from super_gradients.common.object_names import Models\n",
    "from super_gradients.training import models"
   ]
  },
  {
   "cell_type": "markdown",
   "id": "8189e0db",
   "metadata": {},
   "source": [
    "## Exporting YOLO-NAS S Model to ONNX\n",
    "\n",
    "The following code cell loads a COCO-pretrained YOLO-NAS S model using SuperGradients, prepares it for ONNX export, and saves the exported model to the `./models/yolo_nas_s.onnx` path. The process includes:\n",
    "\n",
    "- Loading the pretrained model and setting it to evaluation mode.\n",
    "- Preparing the model for conversion with a specified input size.\n",
    "- Creating a dummy input tensor to simulate a real input.\n",
    "- Defining input and output names for the ONNX graph.\n",
    "- Exporting the model to ONNX format using `torch.onnx.export`.\n",
    "\n",
    "This ONNX model can then be used for inference in other frameworks or deployment environments that support ONNX."
   ]
  },
  {
   "cell_type": "code",
   "execution_count": 2,
   "id": "99683984",
   "metadata": {},
   "outputs": [
    {
     "name": "stderr",
     "output_type": "stream",
     "text": [
      "[2025-05-25 17:34:41] WARNING - checkpoint_utils.py - :warning: The pre-trained models provided by SuperGradients may have their own licenses or terms and conditions derived from the dataset used for pre-training.\n",
      " It is your responsibility to determine whether you have permission to use the models for your use case.\n",
      " The model you have requested was pre-trained on the coco dataset, published under the following terms: https://cocodataset.org/#termsofuse\n",
      "[2025-05-25 17:34:41] INFO - checkpoint_utils.py - License Notification: YOLO-NAS pre-trained weights are subjected to the specific license terms and conditions detailed in \n",
      "https://github.com/Deci-AI/super-gradients/blob/master/LICENSE.YOLONAS.md\n",
      "By downloading the pre-trained weight files you agree to comply with these terms.\n"
     ]
    },
    {
     "name": "stdout",
     "output_type": "stream",
     "text": [
      "Downloading: \"https://sg-hub-nv.s3.amazonaws.com/models/yolo_nas_s_coco.pth\" to /root/.cache/torch/hub/checkpoints/yolo_nas_s_coco.pth\n"
     ]
    },
    {
     "name": "stderr",
     "output_type": "stream",
     "text": [
      "100%|██████████| 73.1M/73.1M [00:06<00:00, 12.2MB/s]\n",
      "[2025-05-25 17:34:49] INFO - checkpoint_utils.py - Successfully loaded pretrained weights for architecture yolo_nas_s\n"
     ]
    }
   ],
   "source": [
    "# Load a COCO-pretrained YOLO-NAS S model.\n",
    "model = models.get(Models.YOLO_NAS_S, pretrained_weights=\"coco\")\n",
    "model.eval()\n",
    "\n",
    "# Prepare the model for ONNX conversion.\n",
    "model.prep_model_for_conversion(input_size=[1, 3, 320, 320])\n",
    "\n",
    "# Define a dummy input tensor with the expected shape.\n",
    "dummy_input = torch.randn([1, 3, 320, 320], device=\"cpu\")\n",
    "\n",
    "# Specify the input and output names for the ONNX model.\n",
    "input_names = [\"input\"]\n",
    "output_names = [\"output_bboxes\", \"output_classes\"]\n",
    "\n",
    "# Export the model to ONNX format.\n",
    "torch.onnx.export(\n",
    "    model,\n",
    "    dummy_input,\n",
    "    \"/models/yolo_nas_s.onnx\",\n",
    "    input_names=input_names,\n",
    "    output_names=output_names,\n",
    "    opset_version=11\n",
    ")"
   ]
  }
 ],
 "metadata": {
  "kernelspec": {
   "display_name": "Python 3 (ipykernel)",
   "language": "python",
   "name": "python3"
  },
  "language_info": {
   "codemirror_mode": {
    "name": "ipython",
    "version": 3
   },
   "file_extension": ".py",
   "mimetype": "text/x-python",
   "name": "python",
   "nbconvert_exporter": "python",
   "pygments_lexer": "ipython3",
   "version": "3.10.16"
  }
 },
 "nbformat": 4,
 "nbformat_minor": 5
}
