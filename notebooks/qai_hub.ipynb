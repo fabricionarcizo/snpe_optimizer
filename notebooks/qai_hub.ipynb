{
 "cells": [
  {
   "cell_type": "markdown",
   "id": "157b4456-6ab7-4f74-a84d-d8e5ae64c245",
   "metadata": {},
   "source": [
    "# QAI Hub Model Compilation and Deployment Tutorial\n",
    "\n",
    "## 🎯 Overview\n",
    "\n",
    "This notebook demonstrates how to compile, profile, and run inference with machine learning models using **Qualcomm AI Hub (QAI Hub)** for deployment on **devices in the cloud**. We will work with two different types of computer vision models:\n",
    "\n",
    "1. **YOLO-NAS** - Object detection (80 COCO classes: people, cars, animals, etc.)\n",
    "2. **HagRID YOLO** - Hand gesture recognition (34 gesture classes: thumbs up, peace sign, etc.)\n",
    "\n",
    "## 🚀 What You'll Learn\n",
    "\n",
    "By the end of this notebook, you'll understand how to use the Qualcomm AI Hub to do the following:\n",
    "\n",
    "- **Model Compilation**: Converting ONNX models to DLC format for Qualcomm chips\n",
    "- **Performance Profiling**: Measuring model speed and efficiency on target hardware\n",
    "- **Inference Testing**: Running predictions on real images\n",
    "- **Result Visualization**: Creating annotated images with detected objects/gestures\n",
    "- **Deployment Preparation**: Getting models ready for Android app integration\n",
    "\n"
   ]
  },
  {
   "cell_type": "markdown",
   "id": "91b814c5-0f13-45b6-b395-d3d01ff840e0",
   "metadata": {},
   "source": [
    "# Qualcomm AI Hub Setup Tutorial\n",
    "\n",
    "This tutorial will guide you through setting up Qualcomm AI Hub in your Python environment.\n",
    "\n",
    "## Prerequisites\n",
    "Before running this notebook, make sure you have:\n",
    "1. Created a conda environment with Python 3.8-3.10 (Qualcomm's recommendation)\n",
    "2. Activated that environment\n",
    "3. Launched Jupyter from the activated environment\n",
    "\n",
    "### Terminal Commands (Run these BEFORE opening this notebook):\n",
    "```bash\n",
    "# Create conda environment.\n",
    "conda create -n qaihub python=3.10\n",
    "\n",
    "# Activate environment.\n",
    "conda activate qaihub\n",
    "\n",
    "# Install Jupyter (if needed).\n",
    "conda install jupyter\n",
    "\n",
    "# Launch Jupyter.\n",
    "jupyter notebook\n"
   ]
  },
  {
   "cell_type": "code",
   "execution_count": null,
   "id": "70646f03-3b9e-4b75-a099-dd09ab2e44ed",
   "metadata": {},
   "outputs": [],
   "source": [
    "# Install qai-hub package.\n",
    "!pip install qai-hub"
   ]
  },
  {
   "cell_type": "code",
   "execution_count": null,
   "id": "b9141d30-2cde-4861-9fbb-a72231b77d39",
   "metadata": {},
   "outputs": [
    {
     "name": "stdout",
     "output_type": "stream",
     "text": [
      "✅ All libraries imported successfully!\n",
      "QAI Hub version: 0.30.0\n"
     ]
    }
   ],
   "source": [
    "# Import necessary libraries.\n",
    "from typing import List, Dict\n",
    "\n",
    "import os\n",
    "\n",
    "import numpy as np\n",
    "import qai_hub as hub\n",
    "\n",
    "from PIL import Image, ImageDraw, ImageEnhance, ImageFont\n",
    "\n",
    "print(\"✅ All libraries imported successfully!\")\n",
    "print(f\"QAI Hub version: {hub.__version__}\")"
   ]
  },
  {
   "cell_type": "markdown",
   "id": "16c88607-d798-4fc1-ba4b-1b5d98deb815",
   "metadata": {},
   "source": [
    "## Get Your API Token and Configure\n",
    "\n",
    "Before configuring, you need to get your API token:\n",
    "\n",
    "1. **Sign into AI Hub**: Go to https://app.aihub.qualcomm.com/\n",
    "2. **Navigate to Settings**: Click on \"Your ID\" → \"Settings\" → \"API Token\"  \n",
    "3. **Copy your token**: You'll use this in the next step\n",
    "\n",
    "⚠️ **Security Note**: Keep your API token private. Don't commit it to version control."
   ]
  },
  {
   "cell_type": "code",
   "execution_count": null,
   "id": "71fc5934-4e3d-4b27-8241-6dc761c454c9",
   "metadata": {},
   "outputs": [],
   "source": [
    "!qai-hub configure --api_token YOUR_API_TOKEN\n"
   ]
  },
  {
   "cell_type": "markdown",
   "id": "352e9189-a994-43cc-920d-1a66878c9949",
   "metadata": {},
   "source": [
    "## To see available devices on QAI Hub"
   ]
  },
  {
   "cell_type": "code",
   "execution_count": null,
   "id": "1549c70c-2b0a-44cd-993d-8e24236040ac",
   "metadata": {},
   "outputs": [],
   "source": [
    "!qai-hub list-devices "
   ]
  },
  {
   "cell_type": "markdown",
   "id": "81374bff-6978-4ac3-bfbe-7ff843d4a7e8",
   "metadata": {},
   "source": [
    "## To see specifc device on QAI Hub"
   ]
  },
  {
   "cell_type": "code",
   "execution_count": 4,
   "id": "ddb46716-ea67-4416-994b-86d6115ab212",
   "metadata": {},
   "outputs": [
    {
     "name": "stdout",
     "output_type": "stream",
     "text": [
      "+-----------------+------------+----------+------+------------------------+-------------------------------------------+\n",
      "|      Device     |     OS     |  Vendor  | Type |        Chipset         |               CLI Invocation              |\n",
      "+-----------------+------------+----------+------+------------------------+-------------------------------------------+\n",
      "| QCS6490 (Proxy) | Android 12 | Qualcomm | Iot  | qualcomm-qcs6490-proxy | --device \"QCS6490 (Proxy)\" --device-os 12 |\n",
      "+-----------------+------------+----------+------+------------------------+-------------------------------------------+\n"
     ]
    }
   ],
   "source": [
    "!qai-hub list-devices --device \"QCS6490 (Proxy)\""
   ]
  },
  {
   "cell_type": "markdown",
   "id": "990577ad-6dbe-4c23-aa28-f6ebf83f2479",
   "metadata": {},
   "source": [
    "## Convert to NWHC format "
   ]
  },
  {
   "cell_type": "code",
   "execution_count": null,
   "id": "94fd8430-bac7-422e-b1e2-c983027fbb84",
   "metadata": {},
   "outputs": [],
   "source": [
    "!pip install onnx-graphsurgeon\n",
    "!pip install scc4onnx "
   ]
  },
  {
   "cell_type": "code",
   "execution_count": null,
   "id": "67f05a8a-e0c8-4bd4-a0d2-95bb67f9f304",
   "metadata": {},
   "outputs": [],
   "source": [
    "!scc4onnx -if ./assets/models/yolo_nas_s.onnx -of ./assets/models/yolo_nas_s_nhwc.onnx --input_op_names_and_order_dims input \"[0,2,3,1]\""
   ]
  },
  {
   "cell_type": "markdown",
   "id": "a23d32eb-14e0-41e1-9e6f-1b019411084b",
   "metadata": {},
   "source": [
    "## Profile original onnx model "
   ]
  },
  {
   "cell_type": "code",
   "execution_count": null,
   "id": "b7a547ff-9164-4a62-be8b-69bd845895d6",
   "metadata": {},
   "outputs": [],
   "source": [
    "def profile_model(MODEL_PATH, TARGET_DEVICE):\n",
    "    \"\"\"\n",
    "    Profile model performance on a specified device.\n",
    "    \"\"\"\n",
    "    print(f\"📊 Starting model profiling on {TARGET_DEVICE}...\")\n",
    "\n",
    "    profile_job = hub.submit_profile_job(\n",
    "        model=MODEL_PATH,\n",
    "        device=hub.Device(TARGET_DEVICE)\n",
    "    )\n",
    "\n",
    "    print(f\"⏳ Profile job submitted: {profile_job.job_id}\")\n",
    "    profile_job.wait()\n",
    "\n",
    "    status = profile_job.get_status()\n",
    "    success = status.code == \"SUCCESS\" if hasattr(status, 'code') else str(status).upper() == \"SUCCESS\"\n",
    "\n",
    "    if success:\n",
    "        print(\"✅ Profiling completed successfully!\")\n",
    "        return profile_job\n",
    "    else:\n",
    "        print(f\"❌ Profiling failed: {status}\")\n",
    "        return None"
   ]
  },
  {
   "cell_type": "code",
   "execution_count": null,
   "id": "2a887be0-d98c-4507-aa25-051da6895b7a",
   "metadata": {},
   "outputs": [
    {
     "name": "stdout",
     "output_type": "stream",
     "text": [
      "Current working directory: /Users/shaahmed/Documents/chain/QAIHUB\n"
     ]
    }
   ],
   "source": [
    "cwd = os.getcwd()\n",
    "print(\"Current working directory:\", cwd)"
   ]
  },
  {
   "cell_type": "code",
   "execution_count": null,
   "id": "510c7194-c323-464c-a2d0-fedaddc849fd",
   "metadata": {},
   "outputs": [
    {
     "name": "stdout",
     "output_type": "stream",
     "text": [
      "📊 Starting model profiling on QCS6490 (Proxy)...\n",
      "Uploading yolo_nas_s_nhwc.onnx\n"
     ]
    },
    {
     "name": "stderr",
     "output_type": "stream",
     "text": [
      "100%|\u001b[34m██████████████████████████████████████████████████████████████████████████████████████████████████████████████████\u001b[0m| 46.5M/46.5M [00:04<00:00, 10.7MB/s]\u001b[0m\n"
     ]
    },
    {
     "name": "stdout",
     "output_type": "stream",
     "text": [
      "Scheduled profile job (jpv082zr5) successfully. To see the status and results:\n",
      "    https://app.aihub.qualcomm.com/jobs/jpv082zr5/\n",
      "\n",
      "⏳ Profile job submitted: jpv082zr5\n",
      "Waiting for profile job (jpv082zr5) completion. Type Ctrl+C to stop waiting at any time.\n",
      "    ✅ SUCCESS                          \u0007\n",
      "✅ Profiling completed successfully!\n"
     ]
    }
   ],
   "source": [
    "# Usage for YOLO-NAS S.\n",
    "MODEL_PATH = \"./assets/models/yolo_nas_s_nhwc.onnx\"\n",
    "TARGET_DEVICE = \"QCS6490 (Proxy)\"\n",
    "\n",
    "# Profile the model.\n",
    "profile_job = profile_model(MODEL_PATH, TARGET_DEVICE)"
   ]
  },
  {
   "cell_type": "markdown",
   "id": "e4bf3d30-367d-4b1b-a9b0-373750e1716f",
   "metadata": {},
   "source": [
    "## Compile ONNX to DLC \n",
    "\n",
    "### Prepare Calibration data for quantization. "
   ]
  },
  {
   "cell_type": "code",
   "execution_count": null,
   "id": "d70d68da-d2eb-41a0-b642-c0cd62982212",
   "metadata": {},
   "outputs": [
    {
     "name": "stdout",
     "output_type": "stream",
     "text": [
      "📊 Preparing calibration data for quantization...\n",
      "🔧 Creating calibration samples for quantization...\n",
      "   Original: (1, 320, 320, 3), range=[0.000, 1.000]\n",
      "   Flipped: (1, 320, 320, 3), range=[0.000, 1.000]\n",
      "   Darker: (1, 320, 320, 3), range=[0.000, 0.741]\n",
      "   Brighter: (1, 320, 320, 3), range=[0.000, 1.000]\n",
      "✅ Generated 4 calibration samples\n",
      "   Each sample: (1, 320, 320, 3) (NHWC format)\n"
     ]
    }
   ],
   "source": [
    "\n",
    "def generate_calibration_data(image_path: str) -> Dict[str, List[np.ndarray]]:\n",
    "    \"\"\"\n",
    "    Generate calibration data for quantization using image variations.\n",
    "    Creates 4 different versions of the input image for robust quantization.\n",
    "    \"\"\"\n",
    "    print(\"🔧 Creating calibration samples for quantization...\")\n",
    "\n",
    "    calibration_samples = []\n",
    "\n",
    "    if not os.path.exists(image_path):\n",
    "        print(f\"❌ Calibration image not found: {image_path}\")\n",
    "        return {\"input\": []}\n",
    "\n",
    "    # Load original image.\n",
    "    original = Image.open(image_path)\n",
    "    if original.mode != 'RGB':\n",
    "        original = original.convert('RGB')\n",
    "\n",
    "    def process_image(img, description):\n",
    "        \"\"\"Helper to process each calibration image consistently.\"\"\"\n",
    "\n",
    "        # Resize to target size.\n",
    "        resized = img.resize((320, 320), Image.LANCZOS)\n",
    "\n",
    "        # Convert to array and normalize [0, 1].\n",
    "        array = np.array(resized, dtype=np.float32) / 255.0\n",
    "        # Add batch dimension: (1, 320, 320, 3) - NHWC format.\n",
    "        array = np.expand_dims(array, axis=0)\n",
    "        print(f\"   {description}: {array.shape}, range=[{array.min():.3f}, {array.max():.3f}]\")\n",
    "        return array\n",
    "\n",
    "\n",
    "    # 1. Original image.\n",
    "    calibration_samples.append(process_image(original, \"Original\"))\n",
    "\n",
    "    # 2. Horizontally flipped (different spatial patterns).\n",
    "    flipped = original.transpose(Image.FLIP_LEFT_RIGHT)\n",
    "    calibration_samples.append(process_image(flipped, \"Flipped\"))\n",
    "\n",
    "    # 3. Darker version (low-light conditions).\n",
    "    enhancer = ImageEnhance.Brightness(original)\n",
    "    darker = enhancer.enhance(0.7)\n",
    "    calibration_samples.append(process_image(darker, \"Darker\"))\n",
    "\n",
    "    # 4. Brighter version (high-light conditions).\n",
    "    brighter = enhancer.enhance(1.3)\n",
    "    calibration_samples.append(process_image(brighter, \"Brighter\"))\n",
    "\n",
    "    calibration_data = {\"input\": calibration_samples}\n",
    "\n",
    "    print(f\"✅ Generated {len(calibration_samples)} calibration samples\")\n",
    "    print(f\"   Each sample: {calibration_samples[0].shape} (NHWC format)\")\n",
    "\n",
    "    return calibration_data\n",
    "\n",
    "\n",
    "# Generate calibration data.\n",
    "print(\"📊 Preparing calibration data for quantization...\")\n",
    "IMAGE_PATH = \"./assets/images/person.jpg\"\n",
    "calibration_data = generate_calibration_data(IMAGE_PATH)"
   ]
  },
  {
   "cell_type": "markdown",
   "id": "bf77c27d-f3d9-4a9f-8c2d-229827a064bf",
   "metadata": {},
   "source": [
    "### Compile Job Code"
   ]
  },
  {
   "cell_type": "code",
   "execution_count": null,
   "id": "078d9e74-4427-4474-8788-7a339a077e3a",
   "metadata": {},
   "outputs": [
    {
     "name": "stdout",
     "output_type": "stream",
     "text": [
      "🚀 Starting DLC compilation...\n",
      "   Model: ./assets/models/yolo_nas_s_nhwc.onnx\n",
      "   Target: QCS6490 (Proxy)\n",
      "   Mode: Quantized with calibration\n",
      "\n",
      "📋 Compilation Configuration:\n",
      "   Input specs: {'input': (1, 320, 320, 3)}\n",
      "   Options: --target_runtime qnn_dlc --quantize_full_type int8 --quantize_io --output_names output_bboxes,output_classes\n",
      "   Calibration samples: 4\n",
      "The history saving thread hit an unexpected error (OperationalError('attempt to write a readonly database')).History will not be written to the database.\n",
      "Uploading yolo_nas_s_nhwc.onnx\n"
     ]
    },
    {
     "name": "stderr",
     "output_type": "stream",
     "text": [
      "100%|\u001b[34m██████████████████████████████████████████████████████████████████████████████████████████████████████████████████\u001b[0m| 46.5M/46.5M [00:02<00:00, 20.7MB/s]\u001b[0m\n",
      "Uploading dataset: 830kB [00:01, 559kB/s]                                                                                                                   <?, ?B/s]\u001b[0m\n"
     ]
    },
    {
     "name": "stdout",
     "output_type": "stream",
     "text": [
      "Scheduled compile job (jgjz93ke5) successfully. To see the status and results:\n",
      "    https://app.aihub.qualcomm.com/jobs/jgjz93ke5/\n",
      "\n",
      "\n",
      "⏳ Compilation job submitted: jgjz93ke5\n",
      "   Waiting for compilation to complete...\n",
      "Waiting for compile job (jgjz93ke5) completion. Type Ctrl+C to stop waiting at any time.\n",
      "    ✅ SUCCESS                          \u0007\n",
      "✅ DLC compilation completed successfully!\n"
     ]
    }
   ],
   "source": [
    "def compile_model_to_dlc(model_path: str, calibration_data: Dict):\n",
    "    \"\"\"\n",
    "    Compile ONNX model to DLC format with quantization and Android app requirements.\n",
    "    \"\"\"\n",
    "    print(f\"🚀 Starting DLC compilation...\")\n",
    "    print(f\"   Model: {model_path}\")\n",
    "    print(f\"   Target: {TARGET_DEVICE}\")  \n",
    "    print(f\"   Mode: Quantized with calibration\")\n",
    "\n",
    "    # Build compilation options for Android app compatibility.\n",
    "    compile_options = [\n",
    "        \"--target_runtime qnn_dlc\",                    # Qualcomm runtime\n",
    "        \"--quantize_full_type int8\",                   # 8-bit quantization  \n",
    "        \"--quantize_io\",                               # Quantize I/O\n",
    "        \"--output_names output_bboxes,output_classes\"  # Custom output names\n",
    "    ]\n",
    "\n",
    "    options_str = \" \".join(compile_options)\n",
    "\n",
    "    # Input specification (NHWC format as required by app).\n",
    "    input_specs = {\"input\": (1, 320, 320, 3)}\n",
    "\n",
    "    print(f\"\\n📋 Compilation Configuration:\")\n",
    "    print(f\"   Input specs: {input_specs}\")\n",
    "    print(f\"   Options: {options_str}\")\n",
    "    print(f\"   Calibration samples: {len(calibration_data['input'])}\")\n",
    "\n",
    "    compile_job = hub.submit_compile_job(\n",
    "        model=model_path,\n",
    "        device=hub.Device(TARGET_DEVICE),  \n",
    "        input_specs=input_specs,\n",
    "        options=options_str,\n",
    "        calibration_data=calibration_data  \n",
    "    )\n",
    "\n",
    "    print(f\"\\n⏳ Compilation job submitted: {compile_job.job_id}\")\n",
    "    print(\"   Waiting for compilation to complete...\")\n",
    "\n",
    "    compile_job.wait()\n",
    "    status = compile_job.get_status()\n",
    "\n",
    "    status = compile_job.get_status()\n",
    "    success = status.code == \"SUCCESS\" if hasattr(status, 'code') else str(status).upper() == \"SUCCESS\"\n",
    "\n",
    "    if success:\n",
    "        print(\"✅ DLC compilation completed successfully!\")\n",
    "        return compile_job\n",
    "    else:\n",
    "        print(f\"❌ Compilation failed: {status}\")\n",
    "        return None\n",
    "\n",
    "# Run compilation.\n",
    "compile_job = compile_model_to_dlc(MODEL_PATH, calibration_data)"
   ]
  },
  {
   "cell_type": "markdown",
   "id": "b96047e6-92ae-43fc-afea-dc26e0394f8c",
   "metadata": {},
   "source": [
    "## Profile Compiled Model to see difference"
   ]
  },
  {
   "cell_type": "code",
   "execution_count": null,
   "id": "66e02cfb-82c3-45aa-a296-3e892dcc4b20",
   "metadata": {},
   "outputs": [
    {
     "name": "stdout",
     "output_type": "stream",
     "text": [
      "📊 Starting model profiling on QCS6490 (Proxy)...\n",
      "Scheduled profile job (jpeeq64vp) successfully. To see the status and results:\n",
      "    https://app.aihub.qualcomm.com/jobs/jpeeq64vp/\n",
      "\n",
      "⏳ Profile job submitted: jpeeq64vp\n",
      "Waiting for profile job (jpeeq64vp) completion. Type Ctrl+C to stop waiting at any time.\n",
      "    ✅ SUCCESS                          \u0007\n",
      "✅ Profiling completed successfully!\n"
     ]
    }
   ],
   "source": [
    "def profile_compiled_model(compile_job):\n",
    "    \"\"\"Profile the compiled quantized model performance.\"\"\"\n",
    "    print(f\"📊 Starting model profiling on {TARGET_DEVICE}...\")\n",
    "\n",
    "    target_model = compile_job.get_target_model()\n",
    "    profile_job = hub.submit_profile_job(\n",
    "        model=target_model,\n",
    "        device=hub.Device(TARGET_DEVICE)\n",
    "    )\n",
    "\n",
    "    print(f\"⏳ Profile job submitted: {profile_job.job_id}\")\n",
    "    profile_job.wait()\n",
    "\n",
    "    status = profile_job.get_status()\n",
    "    success = status.code == \"SUCCESS\" if hasattr(status, 'code') else str(status).upper() == \"SUCCESS\"\n",
    "\n",
    "    if success:\n",
    "        print(\"✅ Profiling completed successfully!\")\n",
    "    else:\n",
    "        print(f\"❌ Profiling failed: {status}\")\n",
    "        return None\n",
    "\n",
    "# Run profiling.\n",
    "profile_job = profile_compiled_model(compile_job)"
   ]
  },
  {
   "cell_type": "markdown",
   "id": "41bfdd48-2cee-4967-8154-d89c575bedfe",
   "metadata": {},
   "source": [
    "## Run Inference and Visualize Results"
   ]
  },
  {
   "cell_type": "code",
   "execution_count": null,
   "id": "3d09e511-59de-400e-b09b-72f72a4e54be",
   "metadata": {},
   "outputs": [
    {
     "name": "stdout",
     "output_type": "stream",
     "text": [
      "🚀 Simple YOLO inference on: person.jpg\n",
      "   Format: int8, NHWC\n",
      "   Output: Top 10 detections only\n",
      "📸 Image: 1920x1080 → 320x320\n",
      "📐 Scale factors: x=6.00, y=3.38\n",
      "🔄 Running inference...\n"
     ]
    },
    {
     "name": "stderr",
     "output_type": "stream",
     "text": [
      "Uploading dataset: 239kB [00:00, 905kB/s]                                                                                                                   <?, ?B/s]\u001b[0m\n"
     ]
    },
    {
     "name": "stdout",
     "output_type": "stream",
     "text": [
      "Scheduled inference job (jgl6dw7mg) successfully. To see the status and results:\n",
      "    https://app.aihub.qualcomm.com/jobs/jgl6dw7mg/\n",
      "\n",
      "Waiting for inference job (jgl6dw7mg) completion. Type Ctrl+C to stop waiting at any time.\n",
      "    ⏳ RUNNING_INFERENCE     ██░ 2/3 ..."
     ]
    },
    {
     "name": "stderr",
     "output_type": "stream",
     "text": [
      "WARNING:urllib3.connectionpool:Retrying (LogRetry(total=4, connect=5, read=4, redirect=None, status=None)) after connection broken by 'ReadTimeoutError(\"HTTPSConnectionPool(host='app.aihub.qualcomm.com', port=443): Read timed out. (read timeout=28)\")': /api/v1/jobs/jgl6dw7mg/\n"
     ]
    },
    {
     "name": "stdout",
     "output_type": "stream",
     "text": [
      "    ✅ SUCCESS                          \u0007\n"
     ]
    },
    {
     "name": "stderr",
     "output_type": "stream",
     "text": [
      "tmprntv6s87.h5: 100%|\u001b[34m███████████████████████████████████████████████████████████████████████████████████████████████████\u001b[0m| 73.8k/73.8k [00:00<00:00, 518kB/s]\u001b[0m\n"
     ]
    },
    {
     "name": "stdout",
     "output_type": "stream",
     "text": [
      "🔍 Raw outputs:\n",
      "   Bboxes: (1, 2100, 4), dtype: float32\n",
      "   Classes: (1, 2100, 80), dtype: float32\n",
      "   After removing batch dim:\n",
      "   Bboxes: (2100, 4)\n",
      "   Classes: (2100, 80)\n",
      "🔍 Bbox value analysis:\n",
      "   Min bbox value: -60.9090\n",
      "   Max bbox value: 341.7673\n",
      "   Sample bbox values: [ 0.        0.       13.535338 42.29793 ]\n",
      "   #1: Person (0.909) at [365,502,1360,1079]\n",
      "   #2: Person (0.725) at [395,502,1360,1102]\n",
      "   #3: Person (0.664) at [395,502,1350,1084]\n",
      "   #4: Person (0.606) at [395,502,1350,1084]\n",
      "   #5: Person (0.328) at [162,502,1360,1079]\n",
      "   #6: Person (0.307) at [162,485,1360,1079]\n",
      "   #7: Person (0.307) at [162,502,1390,1079]\n",
      "   #8: Person (0.296) at [131,519,1390,1102]\n",
      "   #9: Person (0.285) at [162,502,1360,1102]\n",
      "   #10: Person (0.278) at [365,485,1492,1079]\n",
      "💾 Results saved to: ./assets/images/person_top10.jpg\n"
     ]
    },
    {
     "data": {
      "image/jpeg": "[encoded data removed]",
      "text/plain": [
       "<IPython.core.display.Image object>"
      ]
     },
     "metadata": {},
     "output_type": "display_data"
    },
    {
     "name": "stdout",
     "output_type": "stream",
     "text": [
      "\n",
      "✅ Done! Top 10 detections:\n",
      "   #1: Person (0.909)\n",
      "   #2: Person (0.725)\n",
      "   #3: Person (0.664)\n",
      "   #4: Person (0.606)\n",
      "   #5: Person (0.328)\n",
      "   #6: Person (0.307)\n",
      "   #7: Person (0.307)\n",
      "   #8: Person (0.296)\n",
      "   #9: Person (0.285)\n",
      "   #10: Person (0.278)\n"
     ]
    }
   ],
   "source": [
    "# COCO class names (80 classes).\n",
    "COCO_CLASSES = [\n",
    "    \"Person\", \"Bicycle\", \"Car\", \"Motorcycle\", \"Airplane\", \"Bus\", \"Train\", \"Truck\", \"Boat\",\n",
    "    \"Traffic Light\", \"Fire Hydrant\", \"Stop Sign\", \"Parking Meter\", \"Bench\", \"Bird\", \"Cat\",\n",
    "    \"Dog\", \"Horse\", \"Sheep\", \"Cow\", \"Elephant\", \"Bear\", \"Zebra\", \"Giraffe\", \"Backpack\",\n",
    "    \"Umbrella\", \"Handbag\", \"Tie\", \"Suitcase\", \"Frisbee\", \"Skis\", \"Snowboard\", \"Sports Ball\",\n",
    "    \"Kite\", \"Baseball Bat\", \"Baseball Glove\", \"Skateboard\", \"Surfboard\", \"Tennis Racket\",\n",
    "    \"Bottle\", \"Wine Glass\", \"Cup\", \"Fork\", \"Knife\", \"Spoon\", \"Bowl\", \"Banana\", \"Apple\",\n",
    "    \"Sandwich\", \"Orange\", \"Broccoli\", \"Carrot\", \"Hot Dog\", \"Pizza\", \"Donut\", \"Cake\",\n",
    "    \"Chair\", \"Couch\", \"Potted Plant\", \"Bed\", \"Dining Table\", \"Toilet\", \"TV\", \"Laptop\",\n",
    "    \"Mouse\", \"Remote\", \"Keyboard\", \"Cell Phone\", \"Microwave\", \"Oven\", \"Toaster\", \"Sink\",\n",
    "    \"Refrigerator\", \"Book\", \"Clock\", \"Vase\", \"Scissors\", \"Teddy Bear\", \"Hair Drier\", \n",
    "    \"Toothbrush\"\n",
    "]\n",
    "\n",
    "\n",
    "def simple_preprocess(image_path: str) -> tuple:\n",
    "    \"\"\"Simple preprocessing - always NHWC format for int8 inference.\"\"\"\n",
    "\n",
    "    # Load image.\n",
    "    original_image = Image.open(image_path).convert('RGB')\n",
    "    orig_width, orig_height = original_image.size\n",
    "    \n",
    "    # Resize to 320x320 (same as calibration).\n",
    "    resized_image = original_image.resize((320, 320), Image.LANCZOS)\n",
    "\n",
    "    # Convert to array, normalize [0,1], add batch dimension.\n",
    "    image_array = np.array(resized_image, dtype=np.float32) / 255.0\n",
    "    image_array = np.expand_dims(image_array, axis=0)  # NHWC: (1, 320, 320, 3)\n",
    "\n",
    "    # Calculate scale factors for bbox conversion.\n",
    "    scale_x = orig_width / 320\n",
    "    scale_y = orig_height / 320\n",
    "\n",
    "    print(f\"📸 Image: {orig_width}x{orig_height} → 320x320\")\n",
    "    print(f\"📐 Scale factors: x={scale_x:.2f}, y={scale_y:.2f}\")\n",
    "\n",
    "    return image_array, original_image, scale_x, scale_y\n",
    "\n",
    "\n",
    "def get_top10_detections(\n",
    "        inference_results: dict, scale_x: float, scale_y: float):\n",
    "    \"\"\"Extract top 10 detections from model outputs - super simple!\"\"\"\n",
    "\n",
    "    # Get the outputs and handle batch dimension properly\n",
    "    bboxes_raw = inference_results['output_bboxes'][0]  # Shape: (1, 2100, 4)\n",
    "    classes_raw = inference_results['output_classes'][0]  # Shape: (1, 2100, 80)\n",
    "\n",
    "    print(f\"🔍 Raw outputs:\")\n",
    "    print(f\"   Bboxes: {bboxes_raw.shape}, dtype: {bboxes_raw.dtype}\")\n",
    "    print(f\"   Classes: {classes_raw.shape}, dtype: {classes_raw.dtype}\")\n",
    "\n",
    "    # Remove batch dimension: (1, 2100, 4) → (2100, 4)\n",
    "    bboxes = bboxes_raw[0]  # Now shape: (2100, 4)\n",
    "    classes = classes_raw[0]  # Now shape: (2100, 80)\n",
    "\n",
    "    print(f\"   After removing batch dim:\")\n",
    "    print(f\"   Bboxes: {bboxes.shape}\")\n",
    "    print(f\"   Classes: {classes.shape}\")\n",
    "\n",
    "    # Dequantize if needed \n",
    "    # Even if dtype is float32, values might still be in quantized range\n",
    "    if bboxes.max() > 1.0:  # Values appear to be in quantized range\n",
    "        print(f\"   Values appear quantized, applying dequantization\")\n",
    "        # Apply the same logic as original: scale = 1.0 / 255.0 for bbox outputs\n",
    "        bboxes = bboxes * (1.0 / 255.0)\n",
    "\n",
    "    if classes.max() > 1.0:  # Values appear to be in quantized range  \n",
    "        classes = classes * (1.0 / 255.0)\n",
    "\n",
    "\n",
    "def get_top10_detections(\n",
    "        inference_results: dict, scale_x: float, scale_y: float):\n",
    "    \"\"\"Extract top 10 detections from model outputs - super simple!\"\"\"\n",
    "\n",
    "    # Get the outputs and handle batch dimension properly.\n",
    "    bboxes_raw = inference_results['output_bboxes'][0]  # Shape: (1, 2100, 4)\n",
    "    classes_raw = inference_results['output_classes'][0]  # Shape: (1, 2100, 80)\n",
    "\n",
    "    print(f\"🔍 Raw outputs:\")\n",
    "    print(f\"   Bboxes: {bboxes_raw.shape}, dtype: {bboxes_raw.dtype}\")\n",
    "    print(f\"   Classes: {classes_raw.shape}, dtype: {classes_raw.dtype}\")\n",
    "\n",
    "    # Remove batch dimension: (1, 2100, 4) → (2100, 4)\n",
    "    bboxes = bboxes_raw[0]  # Now shape: (2100, 4)\n",
    "    classes = classes_raw[0]  # Now shape: (2100, 80)\n",
    "\n",
    "    print(f\"   After removing batch dim:\")\n",
    "    print(f\"   Bboxes: {bboxes.shape}\")\n",
    "    print(f\"   Classes: {classes.shape}\")\n",
    "\n",
    "    # Debug: Check the actual range of bbox values\n",
    "    print(f\"🔍 Bbox value analysis:\")\n",
    "    print(f\"   Min bbox value: {bboxes.min():.4f}\")\n",
    "    print(f\"   Max bbox value: {bboxes.max():.4f}\")\n",
    "    print(f\"   Sample bbox values: {bboxes[0]}\")\n",
    "\n",
    "    # Dequantize int8 to float (simple: divide by 255)\n",
    "    if bboxes.dtype == np.uint8:\n",
    "        bboxes = bboxes.astype(np.float32) / 255.0\n",
    "    if classes.dtype == np.uint8:\n",
    "        classes = classes.astype(np.float32) / 255.0\n",
    "\n",
    "    # Get confidence for each detection (max class probability)\n",
    "    confidences = np.max(classes, axis=1)\n",
    "    best_classes = np.argmax(classes, axis=1)\n",
    "\n",
    "    # Get top 10 by confidence\n",
    "    top10_indices = np.argsort(confidences)[-10:][::-1]  # Top 10, highest first\n",
    "\n",
    "    detections = []\n",
    "    for i, idx in enumerate(top10_indices):\n",
    "        conf = confidences[idx]\n",
    "        class_id = best_classes[idx]\n",
    "\n",
    "        # Get bbox coordinates - use the same approach as original code\n",
    "        x1, y1, x2, y2 = bboxes[idx]\n",
    "\n",
    "        # Convert to integer coordinates and scale to original image (same as original)\n",
    "        x1 = max(0, int(x1 * scale_x))\n",
    "        y1 = max(0, int(y1 * scale_y))\n",
    "        x2 = max(x1 + 1, int(x2 * scale_x))\n",
    "        y2 = max(y1 + 1, int(y2 * scale_y))\n",
    "\n",
    "        detection = {\n",
    "            'rank': i + 1,\n",
    "            'bbox': [x1, y1, x2, y2],\n",
    "            'confidence': float(conf),\n",
    "            'class_id': int(class_id),\n",
    "            'class_name': COCO_CLASSES[class_id] if class_id < len(COCO_CLASSES) else f'Unknown_{class_id}'\n",
    "        }\n",
    "        detections.append(detection)\n",
    "\n",
    "        print(f\"   #{i+1}: {detection['class_name']} ({conf:.3f}) at [{x1},{y1},{x2},{y2}]\")\n",
    "\n",
    "    return detections\n",
    "\n",
    "\n",
    "def draw_top10_results(\n",
    "        original_image: Image.Image, detections: list, output_path: str,\n",
    "        show_inline: bool = True\n",
    "):\n",
    "    \"\"\"Draw top 10 detections with simple numbered labels.\"\"\"\n",
    "\n",
    "    # Simple colors (just cycle through these 10).\n",
    "    colors = ['red', 'blue', 'green', 'orange', 'purple', \n",
    "              'yellow', 'cyan', 'magenta', 'lime', 'pink']\n",
    "\n",
    "    # Draw on copy.\n",
    "    result_image = original_image.copy()\n",
    "    draw = ImageDraw.Draw(result_image)\n",
    "\n",
    "    # Try to get a decent font.\n",
    "    try:\n",
    "        font = ImageFont.truetype(\"arial.ttf\", 24)\n",
    "    except:\n",
    "        font = ImageFont.load_default()\n",
    "\n",
    "    for det in detections:\n",
    "        rank = det['rank']\n",
    "        x1, y1, x2, y2 = det['bbox']\n",
    "        color = colors[(rank-1) % len(colors)]\n",
    "\n",
    "        # Draw bounding box.\n",
    "        draw.rectangle([x1, y1, x2, y2], outline=color, width=3)\n",
    "\n",
    "        # Simple label: just rank and class.\n",
    "        label = f\"#{rank}: {det['class_name']}\"\n",
    "\n",
    "        # Draw label background.\n",
    "        draw.rectangle([x1, y1-30, x1+200, y1], fill=color)\n",
    "        draw.text((x1+5, y1-25), label, fill='white', font=font)\n",
    "\n",
    "    # Save result.\n",
    "    result_image.save(output_path)\n",
    "    print(f\"💾 Results saved to: {output_path}\")\n",
    "\n",
    "    # Display inline in Jupyter notebook.\n",
    "    if show_inline:\n",
    "        try:\n",
    "            # Method 1: Using IPython.display\n",
    "            from IPython.display import Image as IPImage, display\n",
    "            display(IPImage(output_path))\n",
    "        except ImportError:\n",
    "            try:\n",
    "                # Method 2: Using matplotlib\n",
    "                import matplotlib.pyplot as plt\n",
    "                plt.figure(figsize=(12, 8))\n",
    "                plt.imshow(result_image)\n",
    "                plt.axis('off')\n",
    "                plt.title('Top 10 Detections')\n",
    "                plt.show()\n",
    "            except ImportError:\n",
    "                print(\"📱 Install IPython or matplotlib to see inline visualization\")\n",
    "                print(f\"   For now, check the saved image: {output_path}\")\n",
    "\n",
    "    return output_path\n",
    "\n",
    "\n",
    "def simple_inference_pipeline(\n",
    "        image_path: str, compile_job, show_inline: bool = True):\n",
    "    \"\"\"Complete simple pipeline: preprocess → inference → top 10 → visualize\"\"\"\n",
    "\n",
    "    print(f\"🚀 Simple YOLO inference on: {os.path.basename(image_path)}\")\n",
    "    print(f\"   Format: int8, NHWC\")\n",
    "    print(f\"   Output: Top 10 detections only\")\n",
    "\n",
    "    # 1. Preprocess image\n",
    "    input_data, original_image, scale_x, scale_y = simple_preprocess(image_path)\n",
    "\n",
    "    # 2. Run inference\n",
    "    print(\"🔄 Running inference...\")\n",
    "    target_model = compile_job.get_target_model()\n",
    "\n",
    "    inference_job = hub.submit_inference_job(\n",
    "        model=target_model,\n",
    "        device=hub.Device(TARGET_DEVICE),\n",
    "        inputs={\"input\": [input_data]}\n",
    "    )\n",
    "\n",
    "    inference_job.wait()\n",
    "    results = inference_job.download_output_data()\n",
    "\n",
    "    # 3. Get top 10 detections\n",
    "    detections = get_top10_detections(results, scale_x, scale_y)\n",
    "\n",
    "    # 4. Visualize (inline + save)\n",
    "    output_path = image_path.replace('.jpg', '_top10.jpg')\n",
    "    draw_top10_results(original_image, detections, output_path, show_inline=show_inline)\n",
    "\n",
    "    # 5. Summary\n",
    "    print(f\"\\n✅ Done! Top 10 detections:\")\n",
    "    for det in detections:\n",
    "        print(f\"   #{det['rank']}: {det['class_name']} ({det['confidence']:.3f})\")\n",
    "\n",
    "    return detections, output_path\n",
    "\n",
    "\n",
    "detections, result_path = simple_inference_pipeline(IMAGE_PATH, compile_job)"
   ]
  },
  {
   "cell_type": "markdown",
   "id": "2a0b56a5-05c8-461b-a1fd-3bcd1d2c8380",
   "metadata": {},
   "source": [
    "## Download the compiled model"
   ]
  },
  {
   "cell_type": "code",
   "execution_count": 19,
   "id": "d98b03fb-d80a-413a-b32b-e2d5997859c4",
   "metadata": {},
   "outputs": [
    {
     "name": "stderr",
     "output_type": "stream",
     "text": [
      "yolo_nas_s_int8.dlc: 100%|\u001b[34m█████████████████████████████████████████████████████████████████████████████████████████████\u001b[0m| 11.9M/11.9M [00:00<00:00, 12.8MB/s]\u001b[0m"
     ]
    },
    {
     "name": "stdout",
     "output_type": "stream",
     "text": [
      "Downloaded model to assets/models/yolo_nas_s_int8.dlc\n",
      "✅ Model downloaded and saved to: assets/models/yolo_nas_s_int8.dlc\n"
     ]
    },
    {
     "name": "stderr",
     "output_type": "stream",
     "text": [
      "\n"
     ]
    }
   ],
   "source": [
    "# Download and save to your specified path\n",
    "target_model = compile_job.get_target_model()\n",
    "model_path = 'assets/models/yolo_nas_s_int8.dlc'\n",
    "target_model.download(model_path)\n",
    "\n",
    "print(f\"✅ Model downloaded and saved to: {model_path}\")"
   ]
  },
  {
   "cell_type": "markdown",
   "id": "b3d92cfd-4ede-41fa-9194-3743f6d7512b",
   "metadata": {},
   "source": [
    "# Run all the same steps for YOLO-HAGRID model "
   ]
  },
  {
   "cell_type": "markdown",
   "id": "16bc40a2-48f0-4e82-b8f3-34de33d3ea96",
   "metadata": {},
   "source": [
    "## Convert to NWHC format "
   ]
  },
  {
   "cell_type": "code",
   "execution_count": null,
   "id": "3eda87ec-1fa4-4a7f-b767-1faf95f73c8b",
   "metadata": {},
   "outputs": [],
   "source": [
    "!scc4onnx -if ./assets/models/yolo_nas_s.onnx -of ./assets/models/yolo_nas_s_nhwc.onnx --input_op_names_and_order_dims input \"[0,2,3,1]\""
   ]
  },
  {
   "cell_type": "markdown",
   "id": "752467a1-5c62-464e-9abd-acf21315c98b",
   "metadata": {},
   "source": [
    "## Profile Original onnx model"
   ]
  },
  {
   "cell_type": "code",
   "execution_count": 20,
   "id": "977904e9-282c-48fe-ba1a-c8b4284b42c4",
   "metadata": {},
   "outputs": [
    {
     "name": "stdout",
     "output_type": "stream",
     "text": [
      "📊 Starting model profiling on QCS6490 (Proxy)...\n",
      "Uploading yolo_hagRID_nhwc.onnx\n"
     ]
    },
    {
     "name": "stderr",
     "output_type": "stream",
     "text": [
      "100%|\u001b[34m██████████████████████████████████████████████████████████████████████████████████████████████████████████████████\u001b[0m| 10.1M/10.1M [00:00<00:00, 20.8MB/s]\u001b[0m\n"
     ]
    },
    {
     "name": "stdout",
     "output_type": "stream",
     "text": [
      "Scheduled profile job (jp3vdo8ng) successfully. To see the status and results:\n",
      "    https://app.aihub.qualcomm.com/jobs/jp3vdo8ng/\n",
      "\n",
      "⏳ Profile job submitted: jp3vdo8ng\n",
      "Waiting for profile job (jp3vdo8ng) completion. Type Ctrl+C to stop waiting at any time.\n",
      "    ✅ SUCCESS                          \u0007\n",
      "✅ Profiling completed successfully!\n"
     ]
    }
   ],
   "source": [
    "# Usage for your yolo_nas:\n",
    "MODEL_PATH = \"./assets/models/yolo_hagRID_nhwc.onnx\"\n",
    "TARGET_DEVICE = \"QCS6490 (Proxy)\"\n",
    "\n",
    "# Profile the model\n",
    "profile_job = profile_model(MODEL_PATH, TARGET_DEVICE)"
   ]
  },
  {
   "cell_type": "markdown",
   "id": "cd489382-4056-4242-89ef-7082b2e3f729",
   "metadata": {},
   "source": [
    "## Calibration data for HAGRID"
   ]
  },
  {
   "cell_type": "code",
   "execution_count": null,
   "id": "75b01342-31ed-4a00-811b-8c4600a21c6f",
   "metadata": {},
   "outputs": [
    {
     "name": "stdout",
     "output_type": "stream",
     "text": [
      "📊 Preparing HagRID calibration data for quantization...\n",
      "🔧 Creating HagRID calibration samples for quantization...\n",
      "   Target size: 640x640 (HagRID requirement)\n",
      "   Original: (1, 640, 640, 3), range=[0.000, 1.000]\n",
      "   Flipped: (1, 640, 640, 3), range=[0.000, 1.000]\n",
      "   Darker: (1, 640, 640, 3), range=[0.000, 0.729]\n",
      "   Brighter: (1, 640, 640, 3), range=[0.000, 1.000]\n",
      "✅ Generated 4 HagRID calibration samples\n",
      "   Each sample: (1, 640, 640, 3) (NHWC format, 640x640)\n"
     ]
    }
   ],
   "source": [
    "def generate_hagrid_calibration_data(\n",
    "        image_path: str) -> Dict[str, List[np.ndarray]]:\n",
    "    \"\"\"\n",
    "    Generate calibration data for HagRID model quantization.\n",
    "    Creates 4 different versions of the input image for robust quantization.\n",
    "    \n",
    "    Key differences from YOLO:\n",
    "    - Input size: 640x640 (instead of 320x320)\n",
    "    - Still NHWC format: (1, 640, 640, 3)\n",
    "    \"\"\"\n",
    "    print(\"🔧 Creating HagRID calibration samples for quantization...\")\n",
    "    print(\"   Target size: 640x640 (HagRID requirement)\")\n",
    "    \n",
    "    calibration_samples = []\n",
    "    \n",
    "    if not os.path.exists(image_path):\n",
    "        print(f\"❌ Calibration image not found: {image_path}\")\n",
    "        return {\"input\": []}\n",
    "    \n",
    "    # Load original image\n",
    "    original = Image.open(image_path)\n",
    "    if original.mode != 'RGB':\n",
    "        original = original.convert('RGB')\n",
    "    \n",
    "    def process_hagrid_image(img, description):\n",
    "        \"\"\"Helper to process each calibration image for HagRID (640x640).\"\"\"\n",
    "        # Resize to HagRID target size: 640x640\n",
    "        resized = img.resize((640, 640), Image.LANCZOS)\n",
    "        # Convert to array and normalize [0,1]\n",
    "        array = np.array(resized, dtype=np.float32) / 255.0\n",
    "        # Add batch dimension: (1, 640, 640, 3) - NHWC format\n",
    "        array = np.expand_dims(array, axis=0)\n",
    "        print(f\"   {description}: {array.shape}, range=[{array.min():.3f}, {array.max():.3f}]\")\n",
    "        return array\n",
    "    \n",
    "    # 1. Original image\n",
    "    calibration_samples.append(process_hagrid_image(original, \"Original\"))\n",
    "    \n",
    "    # 2. Horizontally flipped (different hand orientations)\n",
    "    flipped = original.transpose(Image.FLIP_LEFT_RIGHT)\n",
    "    calibration_samples.append(process_hagrid_image(flipped, \"Flipped\"))\n",
    "    \n",
    "    # 3. Darker version (low-light hand detection)\n",
    "    enhancer = ImageEnhance.Brightness(original)\n",
    "    darker = enhancer.enhance(0.7)\n",
    "    calibration_samples.append(process_hagrid_image(darker, \"Darker\"))\n",
    "    \n",
    "    # 4. Brighter version (high-light hand detection)\n",
    "    brighter = enhancer.enhance(1.3)\n",
    "    calibration_samples.append(process_hagrid_image(brighter, \"Brighter\"))\n",
    "    \n",
    "    calibration_data = {\"input\": calibration_samples}\n",
    "    \n",
    "    print(f\"✅ Generated {len(calibration_samples)} HagRID calibration samples\")\n",
    "    print(f\"   Each sample: {calibration_samples[0].shape} (NHWC format, 640x640)\")\n",
    "    \n",
    "    return calibration_data\n",
    "\n",
    "\n",
    "# Usage for HagRID model\n",
    "print(\"📊 Preparing HagRID calibration data for quantization...\")\n",
    "IMAGE_PATH = \"./assets/images/hand.jpg\"\n",
    "calibration_data = generate_hagrid_calibration_data(IMAGE_PATH)"
   ]
  },
  {
   "cell_type": "markdown",
   "id": "320729d6-48d5-42e1-84bf-e06e8eda52fb",
   "metadata": {},
   "source": [
    "## Compile with HagRID calibration data"
   ]
  },
  {
   "cell_type": "code",
   "execution_count": null,
   "id": "3b923077-209a-4b01-b2e6-87ead4aa152b",
   "metadata": {},
   "outputs": [
    {
     "name": "stdout",
     "output_type": "stream",
     "text": [
      "\n",
      "🚀 Compiling HagRID model...\n",
      "🚀 Starting HagRID DLC compilation...\n",
      "   Model: ./assets/models/yolo_hagRID_nhwc.onnx\n",
      "   Target: QCS6490 (Proxy)\n",
      "   Mode: Quantized with calibration\n",
      "   Input size: 640x640 (HagRID requirement)\n",
      "Uploading yolo_hagRID_nhwc.onnx\n"
     ]
    },
    {
     "name": "stderr",
     "output_type": "stream",
     "text": [
      "\n",
      "  0%|\u001b[34m                                                                                                                           \u001b[0m| 0.00/10.1M [00:00<?, ?B/s]\u001b[0m\u001b[A\n",
      "  9%|\u001b[34m██████████▍                                                                                                        \u001b[0m| 944k/10.1M [00:00<00:01, 9.47MB/s]\u001b[0m\u001b[A\n",
      "100%|\u001b[34m██████████████████████████████████████████████████████████████████████████████████████████████████████████████████\u001b[0m| 10.1M/10.1M [00:00<00:00, 21.0MB/s]\u001b[0m\u001b[A\n",
      "\n",
      "Uploading dataset:   0%|\u001b[34m                                                                                                        \u001b[0m| 0.00/4.37M [00:00<?, ?B/s]\u001b[0m\u001b[A\n",
      "Uploading dataset: 4.37MB [00:01, 3.98MB/s]                                                                                                                 22.8MB/s]\u001b[0m\u001b[A\n"
     ]
    },
    {
     "name": "stdout",
     "output_type": "stream",
     "text": [
      "Scheduled compile job (jgokxdmkp) successfully. To see the status and results:\n",
      "    https://app.aihub.qualcomm.com/jobs/jgokxdmkp/\n",
      "\n",
      "\n",
      "⏳ HagRID compilation job submitted: jgokxdmkp\n",
      "   Waiting for compilation to complete...\n",
      "Waiting for compile job (jgokxdmkp) completion. Type Ctrl+C to stop waiting at any time.\n",
      "    ✅ SUCCESS                          \u0007\n",
      "✅ HagRID DLC compilation completed successfully!\n",
      "   Model ready for hand gesture detection\n"
     ]
    }
   ],
   "source": [
    "def compile_hagrid_model_to_dlc(model_path: str, calibration_data: Dict):\n",
    "    \"\"\"\n",
    "    Compile HagRID ONNX model to DLC format with quantization and Android app requirements.\n",
    "    \n",
    "    Key differences from YOLO:\n",
    "    - Input size: 640x640 (instead of 320x320)\n",
    "    - Output: 8400 detections with 34 gesture classes\n",
    "    \"\"\"\n",
    "    print(f\"🚀 Starting HagRID DLC compilation...\")\n",
    "    print(f\"   Model: {model_path}\")\n",
    "    print(f\"   Target: QCS6490 (Proxy)\")  \n",
    "    print(f\"   Mode: Quantized with calibration\")\n",
    "    print(f\"   Input size: 640x640 (HagRID requirement)\")\n",
    "    \n",
    "    # Build compilation options for Android app compatibility\n",
    "    compile_options = [\n",
    "        \"--target_runtime qnn_dlc\",                           # Qualcomm runtime\n",
    "        \"--quantize_full_type int8\",                         # 8-bit quantization  \n",
    "        \"--quantize_io\",                                      # Quantize inputs/outputs\n",
    "        \"--output_names output_bboxes,output_classes\"        # Custom output names\n",
    "    ]\n",
    "    \n",
    "    options_str = \" \".join(compile_options)\n",
    "    \n",
    "    # Input specification for HagRID (NHWC format, 640x640)\n",
    "    input_specs = {\"input\": (1, 640, 640, 3)}\n",
    "    \n",
    "    \n",
    "    compile_job = hub.submit_compile_job(\n",
    "        model=model_path,\n",
    "        device=hub.Device(\"QCS6490 (Proxy)\"),  \n",
    "        input_specs=input_specs,\n",
    "        options=options_str,\n",
    "        calibration_data=calibration_data  \n",
    "    )\n",
    "        \n",
    "    print(f\"\\n⏳ HagRID compilation job submitted: {compile_job.job_id}\")\n",
    "    print(\"   Waiting for compilation to complete...\")\n",
    "        \n",
    "    compile_job.wait()\n",
    "    status = compile_job.get_status()\n",
    "        \n",
    "    success = status.code == \"SUCCESS\" if hasattr(status, 'code') else str(status).upper() == \"SUCCESS\"\n",
    "    \n",
    "    if success:\n",
    "        print(\"✅ HagRID DLC compilation completed successfully!\")\n",
    "        print(\"   Model ready for hand gesture detection\")\n",
    "        return compile_job\n",
    "    else:\n",
    "        print(f\"❌ HagRID compilation failed: {status}\")\n",
    "        return None\n",
    "\n",
    "\n",
    "# Set up paths for HagRID\n",
    "MODEL_PATH = \"./assets/models/yolo_hagRID_nhwc.onnx\"\n",
    "\n",
    "# Run HagRID compilation\n",
    "print(\"\\n🚀 Compiling HagRID model...\")\n",
    "compile_job = compile_hagrid_model_to_dlc(MODEL_PATH, calibration_data)"
   ]
  },
  {
   "cell_type": "markdown",
   "id": "fd79e912-6ee9-4d8c-948f-af3678f62871",
   "metadata": {},
   "source": [
    "## Profile The new DLC HAGRID model"
   ]
  },
  {
   "cell_type": "code",
   "execution_count": 25,
   "id": "dbc1cf29-f68d-4c76-9945-c2f315877968",
   "metadata": {},
   "outputs": [
    {
     "name": "stdout",
     "output_type": "stream",
     "text": [
      "📊 Starting model profiling on QCS6490 (Proxy)...\n",
      "Scheduled profile job (jpv0824r5) successfully. To see the status and results:\n",
      "    https://app.aihub.qualcomm.com/jobs/jpv0824r5/\n",
      "\n",
      "⏳ Profile job submitted: jpv0824r5\n",
      "Waiting for profile job (jpv0824r5) completion. Type Ctrl+C to stop waiting at any time.\n",
      "    ✅ SUCCESS                          \u0007\n",
      "✅ Profiling completed successfully!\n"
     ]
    }
   ],
   "source": [
    "profile_job = profile_compiled_model(compile_job)"
   ]
  },
  {
   "cell_type": "markdown",
   "id": "152af625-d51f-46bd-8a9a-1ffaab1b11f6",
   "metadata": {},
   "source": [
    "## Run Inferenece and Visualize Results"
   ]
  },
  {
   "cell_type": "code",
   "execution_count": null,
   "id": "2988b391-3a3e-404f-a4a2-2d03cb2cc6c1",
   "metadata": {},
   "outputs": [
    {
     "name": "stdout",
     "output_type": "stream",
     "text": [
      "🚀 Fixed HagRID inference on: hand.jpg\n",
      "   Format: int8 quantized, NHWC\n",
      "   Input size: 640x640 with aspect ratio preservation\n",
      "   Classes: 34 HagRID gestures\n",
      "📸 Original: 1280x720\n",
      "📐 Scale: 0.500, New size: 640x360\n",
      "📦 Padding: x=0, y=140\n",
      "🔄 Running HagRID inference...\n"
     ]
    },
    {
     "name": "stderr",
     "output_type": "stream",
     "text": [
      "\n",
      "Uploading dataset:   0%|\u001b[34m                                                                                                         \u001b[0m| 0.00/692k [00:00<?, ?B/s]\u001b[0m\u001b[A\n",
      "Uploading dataset: 696kB [00:00, 2.03MB/s]                                                                                                                  5.00MB/s]\u001b[0m\u001b[A\n"
     ]
    },
    {
     "name": "stdout",
     "output_type": "stream",
     "text": [
      "Scheduled inference job (jpyrl8nl5) successfully. To see the status and results:\n",
      "    https://app.aihub.qualcomm.com/jobs/jpyrl8nl5/\n",
      "\n",
      "Waiting for inference job (jpyrl8nl5) completion. Type Ctrl+C to stop waiting at any time.\n",
      "    ✅ SUCCESS                          \u0007\n"
     ]
    },
    {
     "name": "stderr",
     "output_type": "stream",
     "text": [
      "\n",
      "tmpfzt6963r.h5: 100%|\u001b[34m██████████████████████████████████████████████████████████████████████████████████████████████████\u001b[0m| 50.6k/50.6k [00:00<00:00, 6.02MB/s]\u001b[0m\u001b[A"
     ]
    },
    {
     "name": "stdout",
     "output_type": "stream",
     "text": [
      "🔍 QAI Hub outputs:\n",
      "   Bboxes: (8400, 4), dtype: float32\n",
      "   Classes: (8400, 34), dtype: float32\n",
      "Raw bbox sample: [25.067554 17.547287 50.13511  35.094574]\n",
      "Bbox value ranges:\n",
      "  X: 5.014 - 636.716\n",
      "  Y: 10.027 - 634.209\n",
      "  W: 5.014 - 478.790\n",
      "  H: 5.014 - 368.493\n",
      "Max probability range: 0.000 - 0.698\n",
      "Valid detections (conf > 0.25): 12\n",
      "Best detection raw bbox: [518.8984  310.83768 230.62149 250.67554]\n",
      "Best detection score: 0.698\n",
      "Best detection class: palm\n",
      "Coordinates appear to be in pixel space\n",
      "In 640x640 space - x1:403.6, y1:185.5, x2:634.2, y2:436.2\n",
      "Converted bbox: [ 807.1753    90.99982 1268.4182   592.3509 ]\n",
      "   #1: palm (0.698) at [817,101,1258,582]\n",
      "   #2: palm (0.698) at [827,90,1280,592]\n",
      "   #3: palm (0.698) at [817,101,1258,582]\n",
      "   #4: palm (0.698) at [817,101,1258,582]\n",
      "   #5: palm (0.698) at [827,101,1280,582]\n",
      "   #6: palm (0.698) at [827,101,1280,582]\n",
      "   #7: palm (0.698) at [817,80,1258,562]\n",
      "   #8: palm (0.698) at [817,90,1258,592]\n",
      "   #9: palm (0.698) at [817,90,1258,592]\n",
      "   #10: palm (0.698) at [837,90,1278,592]\n",
      "💾 Results saved to: ./assets/images/hand_hagrid_fixed_top10.jpg\n"
     ]
    },
    {
     "name": "stderr",
     "output_type": "stream",
     "text": [
      "\n"
     ]
    },
    {
     "data": {
      "image/jpeg": "[encoded data removed]",
      "text/plain": [
       "<IPython.core.display.Image object>"
      ]
     },
     "metadata": {},
     "output_type": "display_data"
    },
    {
     "name": "stdout",
     "output_type": "stream",
     "text": [
      "\n",
      "✅ Done! Top 10 gesture detections:\n",
      "   #1: palm (0.698)\n",
      "      Bbox: (817, 101, 1258, 582) Size: 441x481\n",
      "   #2: palm (0.698)\n",
      "      Bbox: (827, 90, 1280, 592) Size: 453x502\n",
      "   #3: palm (0.698)\n",
      "      Bbox: (817, 101, 1258, 582) Size: 441x481\n",
      "   #4: palm (0.698)\n",
      "      Bbox: (817, 101, 1258, 582) Size: 441x481\n",
      "   #5: palm (0.698)\n",
      "      Bbox: (827, 101, 1280, 582) Size: 453x481\n",
      "   #6: palm (0.698)\n",
      "      Bbox: (827, 101, 1280, 582) Size: 453x481\n",
      "   #7: palm (0.698)\n",
      "      Bbox: (817, 80, 1258, 562) Size: 441x482\n",
      "   #8: palm (0.698)\n",
      "      Bbox: (817, 90, 1258, 592) Size: 441x502\n",
      "   #9: palm (0.698)\n",
      "      Bbox: (817, 90, 1258, 592) Size: 441x502\n",
      "   #10: palm (0.698)\n",
      "      Bbox: (837, 90, 1278, 592) Size: 441x502\n"
     ]
    }
   ],
   "source": [
    "# HagRIDv2 Dataset Classes - CORRECT ORDER (same as your working code)\n",
    "HAGRID_V2_CLASSES = [\n",
    "    'call',           # 0\n",
    "    'dislike',        # 1\n",
    "    'fist',           # 2\n",
    "    'four',           # 3\n",
    "    'grabbing',       # 4\n",
    "    'grip',           # 5\n",
    "    'hand_heart',     # 6\n",
    "    'hand_heart2',    # 7\n",
    "    'holy',           # 8\n",
    "    'like',           # 9\n",
    "    'little_finger',  # 10\n",
    "    'middle_finger',  # 11\n",
    "    'mute',           # 12\n",
    "    'xsign',          # 13\n",
    "    'ok',             # 14\n",
    "    'one',            # 15\n",
    "    'palm',           # 16\n",
    "    'peace',          # 17\n",
    "    'peace_inverted', # 18\n",
    "    'point',          # 19\n",
    "    'rock',           # 20\n",
    "    'stop',           # 21\n",
    "    'stop_inverted',  # 22\n",
    "    'take_picture',   # 23\n",
    "    'three',          # 24\n",
    "    'three2',         # 25\n",
    "    'three3',         # 26\n",
    "    'three_gun',      # 27\n",
    "    'thumb_index',    # 28\n",
    "    'thumb_index2',   # 29\n",
    "    'timeout',        # 30\n",
    "    'two_up',         # 31\n",
    "    'two_up_inverted',# 32\n",
    "    'no_gesture'      # 33\n",
    "]\n",
    "\n",
    "\n",
    "def hagrid_preprocess_with_padding(image_path: str) -> tuple:\n",
    "    \"\"\"\n",
    "    Preprocess image exactly like working ONNX code:\n",
    "    - Aspect ratio preserving resize\n",
    "    - Gray padding to 640x640\n",
    "    - Track scale and padding for coordinate conversion\n",
    "    \"\"\"\n",
    "\n",
    "    # Load image.\n",
    "    image_pil = Image.open(image_path).convert('RGB')\n",
    "    original_w, original_h = image_pil.size\n",
    "    \n",
    "    input_size = 640\n",
    "    \n",
    "    # Calculate scale to maintain aspect ratio (same as working code)\n",
    "    scale = min(input_size / original_w, input_size / original_h)\n",
    "    new_w = int(original_w * scale)\n",
    "    new_h = int(original_h * scale)\n",
    "    \n",
    "    print(f\"📸 Original: {original_w}x{original_h}\")\n",
    "    print(f\"📐 Scale: {scale:.3f}, New size: {new_w}x{new_h}\")\n",
    "    \n",
    "    # Resize image maintaining aspect ratio\n",
    "    resized = image_pil.resize((new_w, new_h), Image.LANCZOS)\n",
    "    \n",
    "    # Create padded image with gray background (114 like working code)\n",
    "    padded = Image.new('RGB', (input_size, input_size), color=(114, 114, 114))\n",
    "    \n",
    "    # Calculate padding offsets (center the image)\n",
    "    pad_x = (input_size - new_w) // 2\n",
    "    pad_y = (input_size - new_h) // 2\n",
    "    \n",
    "    print(f\"📦 Padding: x={pad_x}, y={pad_y}\")\n",
    "    \n",
    "    # Place resized image in center\n",
    "    padded.paste(resized, (pad_x, pad_y))\n",
    "    \n",
    "    # Convert to numpy and normalize [0,1]\n",
    "    image_array = np.array(padded, dtype=np.float32) / 255.0\n",
    "    \n",
    "    # Add batch dimension: NHWC format (1, 640, 640, 3)\n",
    "    image_array = np.expand_dims(image_array, axis=0)\n",
    "    \n",
    "    # Store preprocessing info for coordinate conversion\n",
    "    preprocess_info = {\n",
    "        'scale': scale,\n",
    "        'pad_x': pad_x,\n",
    "        'pad_y': pad_y,\n",
    "        'original_w': original_w,\n",
    "        'original_h': original_h,\n",
    "        'resized_w': new_w,\n",
    "        'resized_h': new_h\n",
    "    }\n",
    "    \n",
    "    return image_array, image_pil, preprocess_info\n",
    "\n",
    "\n",
    "def get_top10_hagrid_gestures_fixed(\n",
    "        inference_results: dict, preprocess_info: dict,\n",
    "        conf_threshold: float = 0.25\n",
    "):\n",
    "    \"\"\"\n",
    "    Extract gesture detections using same logic as working ONNX code.\n",
    "    Handles QAI Hub int8 quantization properly.\n",
    "    \"\"\"\n",
    "    \n",
    "    # Get outputs and remove batch dimension\n",
    "    bboxes_raw = inference_results['output_bboxes'][0][0]  # (8400, 4)\n",
    "    classes_raw = inference_results['output_classes'][0][0]  # (8400, 34)\n",
    "    \n",
    "    print(f\"🔍 QAI Hub outputs:\")\n",
    "    print(f\"   Bboxes: {bboxes_raw.shape}, dtype: {bboxes_raw.dtype}\")\n",
    "    print(f\"   Classes: {classes_raw.shape}, dtype: {classes_raw.dtype}\")\n",
    "    \n",
    "    # Dequantize int8 outputs (QAI Hub specific)\n",
    "    if bboxes_raw.dtype == np.uint8:\n",
    "        # For bbox outputs: assume quantized range maps to [0,1] like ONNX\n",
    "        bboxes = bboxes_raw.astype(np.float32) / 255.0\n",
    "        print(f\"   Dequantized bboxes: range=[{bboxes.min():.4f}, {bboxes.max():.4f}]\")\n",
    "    else:\n",
    "        bboxes = bboxes_raw.astype(np.float32)\n",
    "    \n",
    "    if classes_raw.dtype == np.uint8:\n",
    "        # For class outputs: assume quantized range maps to [0,1] like ONNX  \n",
    "        classes = classes_raw.astype(np.float32) / 255.0\n",
    "        print(f\"   Dequantized classes: range=[{classes.min():.4f}, {classes.max():.4f}]\")\n",
    "    else:\n",
    "        classes = classes_raw.astype(np.float32)\n",
    "    \n",
    "    # Debug raw values (same as working code)\n",
    "    print(f\"Raw bbox sample: {bboxes[0]}\")\n",
    "    print(f\"Bbox value ranges:\")\n",
    "    print(f\"  X: {bboxes[:, 0].min():.3f} - {bboxes[:, 0].max():.3f}\")\n",
    "    print(f\"  Y: {bboxes[:, 1].min():.3f} - {bboxes[:, 1].max():.3f}\")\n",
    "    print(f\"  W: {bboxes[:, 2].min():.3f} - {bboxes[:, 2].max():.3f}\")\n",
    "    print(f\"  H: {bboxes[:, 3].min():.3f} - {bboxes[:, 3].max():.3f}\")\n",
    "    \n",
    "    # Get best class for each detection (same as working code)\n",
    "    max_probs = np.max(classes, axis=1)\n",
    "    class_ids = np.argmax(classes, axis=1)\n",
    "    \n",
    "    print(f\"Max probability range: {max_probs.min():.3f} - {max_probs.max():.3f}\")\n",
    "    \n",
    "    # Filter by confidence\n",
    "    valid_mask = max_probs > conf_threshold\n",
    "    valid_count = np.sum(valid_mask)\n",
    "    print(f\"Valid detections (conf > {conf_threshold}): {valid_count}\")\n",
    "    \n",
    "    if valid_count == 0:\n",
    "        print(\"⚠️ No detections above threshold, trying lower threshold...\")\n",
    "        # Try lower thresholds\n",
    "        for lower_thresh in [0.1, 0.05, 0.01]:\n",
    "            valid_mask = max_probs > lower_thresh\n",
    "            valid_count = np.sum(valid_mask)\n",
    "            print(f\"  Trying {lower_thresh}: {valid_count} detections\")\n",
    "            if valid_count > 0:\n",
    "                conf_threshold = lower_thresh\n",
    "                break\n",
    "    \n",
    "    if valid_count == 0:\n",
    "        return []\n",
    "    \n",
    "    # Get valid detections\n",
    "    valid_bboxes = bboxes[valid_mask]\n",
    "    valid_scores = max_probs[valid_mask]\n",
    "    valid_class_ids = class_ids[valid_mask]\n",
    "    \n",
    "    print(f\"Best detection raw bbox: {valid_bboxes[0]}\")\n",
    "    print(f\"Best detection score: {valid_scores[0]:.3f}\")\n",
    "    print(f\"Best detection class: {HAGRID_V2_CLASSES[valid_class_ids[0]]}\")\n",
    "    \n",
    "    # Convert coordinates (same logic as working code)\n",
    "    final_boxes = convert_hagrid_coordinates(valid_bboxes, preprocess_info)\n",
    "    \n",
    "    print(f\"Converted bbox: {final_boxes[0]}\")\n",
    "    \n",
    "    # Sort by confidence and take top 10\n",
    "    sort_indices = np.argsort(valid_scores)[::-1][:10]  # Top 10\n",
    "    \n",
    "    detections = []\n",
    "    for i, idx in enumerate(sort_indices):\n",
    "        detection = {\n",
    "            'rank': i + 1,\n",
    "            'bbox': final_boxes[idx].astype(int).tolist(),\n",
    "            'confidence': float(valid_scores[idx]),\n",
    "            'class_id': int(valid_class_ids[idx]),\n",
    "            'gesture_name': HAGRID_V2_CLASSES[valid_class_ids[idx]]\n",
    "        }\n",
    "        detections.append(detection)\n",
    "        \n",
    "        x1, y1, x2, y2 = detection['bbox']\n",
    "        print(f\"   #{i+1}: {detection['gesture_name']} ({detection['confidence']:.3f}) at [{x1},{y1},{x2},{y2}]\")\n",
    "    \n",
    "    return detections\n",
    "\n",
    "\n",
    "def convert_hagrid_coordinates(bboxes, preprocess_info):\n",
    "    \"\"\"\n",
    "    Convert coordinates exactly like working ONNX code:\n",
    "    1. Handle normalized vs pixel coordinates\n",
    "    2. Convert center format to corner format  \n",
    "    3. Remove padding and scale back to original image\n",
    "    \"\"\"\n",
    "    input_size = 640\n",
    "    \n",
    "    # Check if coordinates are normalized (0-1) or in pixels (same as working code)\n",
    "    if np.all(bboxes <= 1.0):\n",
    "        print(\"Coordinates appear to be normalized (0-1)\")\n",
    "        # Convert from normalized to pixels in 640x640 space\n",
    "        x_center = bboxes[:, 0] * input_size\n",
    "        y_center = bboxes[:, 1] * input_size  \n",
    "        width = bboxes[:, 2] * input_size\n",
    "        height = bboxes[:, 3] * input_size\n",
    "    else:\n",
    "        print(\"Coordinates appear to be in pixel space\")\n",
    "        # Already in pixels\n",
    "        x_center = bboxes[:, 0]\n",
    "        y_center = bboxes[:, 1]\n",
    "        width = bboxes[:, 2] \n",
    "        height = bboxes[:, 3]\n",
    "    \n",
    "    # Convert from center format to corner format (same as working code)\n",
    "    x1 = x_center - width / 2\n",
    "    y1 = y_center - height / 2\n",
    "    x2 = x_center + width / 2\n",
    "    y2 = y_center + height / 2\n",
    "    \n",
    "    print(f\"In 640x640 space - x1:{x1[0]:.1f}, y1:{y1[0]:.1f}, x2:{x2[0]:.1f}, y2:{y2[0]:.1f}\")\n",
    "    \n",
    "    # Convert back to original image coordinates (same as working code)\n",
    "    scale = preprocess_info['scale']\n",
    "    pad_x = preprocess_info['pad_x'] \n",
    "    pad_y = preprocess_info['pad_y']\n",
    "    \n",
    "    # Remove padding and scale back\n",
    "    x1 = (x1 - pad_x) / scale\n",
    "    y1 = (y1 - pad_y) / scale\n",
    "    x2 = (x2 - pad_x) / scale\n",
    "    y2 = (y2 - pad_y) / scale\n",
    "    \n",
    "    # Clamp to image boundaries (same as working code)\n",
    "    original_w = preprocess_info['original_w']\n",
    "    original_h = preprocess_info['original_h']\n",
    "    \n",
    "    x1 = np.clip(x1, 0, original_w)\n",
    "    y1 = np.clip(y1, 0, original_h)\n",
    "    x2 = np.clip(x2, 0, original_w)\n",
    "    y2 = np.clip(y2, 0, original_h)\n",
    "    \n",
    "    return np.column_stack([x1, y1, x2, y2])\n",
    "\n",
    "\n",
    "def draw_hagrid_results(\n",
    "        original_image: Image.Image, detections: list,\n",
    "        output_path: str, show_inline: bool = True\n",
    "):\n",
    "    \"\"\"Draw top 10 gesture detections.\"\"\"\n",
    "    \n",
    "    colors = ['red', 'blue', 'green', 'orange', 'purple', \n",
    "              'yellow', 'cyan', 'magenta', 'lime', 'pink']\n",
    "    \n",
    "    result_image = original_image.copy()\n",
    "    draw = ImageDraw.Draw(result_image)\n",
    "    \n",
    "    try:\n",
    "        font = ImageFont.truetype(\"arial.ttf\", 24)\n",
    "    except:\n",
    "        font = ImageFont.load_default()\n",
    "    \n",
    "    for det in detections:\n",
    "        rank = det['rank']\n",
    "        x1, y1, x2, y2 = det['bbox']\n",
    "        color = colors[(rank-1) % len(colors)]\n",
    "        \n",
    "        # Draw bounding box\n",
    "        draw.rectangle([x1, y1, x2, y2], outline=color, width=3)\n",
    "        \n",
    "        # Label: rank, gesture name, and confidence\n",
    "        label = f\"#{rank}: {det['gesture_name']} ({det['confidence']:.2f})\"\n",
    "        \n",
    "        # Draw label background\n",
    "        draw.rectangle([x1, y1-30, x1+300, y1], fill=color)\n",
    "        draw.text((x1+5, y1-25), label, fill='white', font=font)\n",
    "    \n",
    "    # Save result\n",
    "    result_image.save(output_path)\n",
    "    print(f\"💾 Results saved to: {output_path}\")\n",
    "    \n",
    "    # Display inline\n",
    "    if show_inline:\n",
    "        try:\n",
    "            from IPython.display import Image as IPImage, display\n",
    "            display(IPImage(output_path))\n",
    "        except ImportError:\n",
    "            try:\n",
    "                import matplotlib.pyplot as plt\n",
    "                plt.figure(figsize=(12, 8))\n",
    "                plt.imshow(result_image)\n",
    "                plt.axis('off')\n",
    "                plt.title('Top 10 HagRID Gesture Detections')\n",
    "                plt.show()\n",
    "            except ImportError:\n",
    "                print(\"📱 Install IPython or matplotlib for inline visualization\")\n",
    "    \n",
    "    return output_path\n",
    "\n",
    "\n",
    "def simple_hagrid_inference_pipeline_fixed(\n",
    "        image_path: str, compile_job, show_inline: bool = True):\n",
    "    \"\"\"\n",
    "    Fixed HagRID pipeline matching working ONNX code exactly.\n",
    "    Handles QAI Hub int8 quantization properly.\n",
    "    \"\"\"\n",
    "    \n",
    "    print(f\"🚀 Fixed HagRID inference on: {os.path.basename(image_path)}\")\n",
    "    print(f\"   Format: int8 quantized, NHWC\")\n",
    "    print(f\"   Input size: 640x640 with aspect ratio preservation\")\n",
    "    print(f\"   Classes: 34 HagRID gestures\")\n",
    "    \n",
    "    # 1. Preprocess with padding (same as working ONNX code)\n",
    "    input_data, original_image, preprocess_info = hagrid_preprocess_with_padding(image_path)\n",
    "    \n",
    "    # 2. Run inference\n",
    "    print(\"🔄 Running HagRID inference...\")\n",
    "    target_model = compile_job.get_target_model()\n",
    "    \n",
    "    inference_job = hub.submit_inference_job(\n",
    "        model=target_model,\n",
    "        device=hub.Device(\"QCS6490 (Proxy)\"),\n",
    "        inputs={\"input\": [input_data]}\n",
    "    )\n",
    "    \n",
    "    inference_job.wait()\n",
    "    results = inference_job.download_output_data()\n",
    "    \n",
    "    # 3. Process outputs with proper quantization handling\n",
    "    detections = get_top10_hagrid_gestures_fixed(results, preprocess_info, conf_threshold=0.25)\n",
    "    \n",
    "    if not detections:\n",
    "        print(\"❌ No detections found\")\n",
    "        return [], None\n",
    "    \n",
    "    # 4. Visualize\n",
    "    output_path = image_path.replace('.jpg', '_hagrid_fixed_top10.jpg')\n",
    "    draw_hagrid_results(original_image, detections, output_path, show_inline=show_inline)\n",
    "    \n",
    "    # 5. Summary\n",
    "    print(f\"\\n✅ Done! Top {len(detections)} gesture detections:\")\n",
    "    for det in detections:\n",
    "        x1, y1, x2, y2 = det['bbox']\n",
    "        size_w, size_h = x2-x1, y2-y1\n",
    "        print(f\"   #{det['rank']}: {det['gesture_name']} ({det['confidence']:.3f})\")\n",
    "        print(f\"      Bbox: ({x1}, {y1}, {x2}, {y2}) Size: {size_w}x{size_h}\")\n",
    "    \n",
    "    return detections, output_path\n",
    "\n",
    "\n",
    "detections, result_path = simple_hagrid_inference_pipeline_fixed(\n",
    "    \"./assets/images/hand.jpg\", compile_job)"
   ]
  },
  {
   "cell_type": "markdown",
   "id": "fd8086f8-13cb-4113-aab2-34b2ba76ae63",
   "metadata": {},
   "source": [
    "## Download The Model"
   ]
  },
  {
   "cell_type": "code",
   "execution_count": 36,
   "id": "b3ea9d26-957c-48d8-88e5-838a0d19b080",
   "metadata": {},
   "outputs": [
    {
     "name": "stderr",
     "output_type": "stream",
     "text": [
      "\n",
      "yolo_hagRID_int8.dlc:   0%|\u001b[34m                                                                                                     \u001b[0m| 0.00/2.78M [00:00<?, ?B/s]\u001b[0m\u001b[A\n",
      "yolo_hagRID_int8.dlc:   2%|\u001b[34m██▏                                                                                          \u001b[0m| 66.0k/2.78M [00:00<00:05, 503kB/s]\u001b[0m\u001b[A\n",
      "yolo_hagRID_int8.dlc:   7%|\u001b[34m██████▊                                                                                       \u001b[0m| 206k/2.78M [00:00<00:03, 809kB/s]\u001b[0m\u001b[A\n",
      "yolo_hagRID_int8.dlc:  17%|\u001b[34m███████████████▌                                                                             \u001b[0m| 478k/2.78M [00:00<00:01, 1.34MB/s]\u001b[0m\u001b[A\n",
      "yolo_hagRID_int8.dlc:  36%|\u001b[34m█████████████████████████████████▍                                                          \u001b[0m| 1.01M/2.78M [00:00<00:00, 2.39MB/s]\u001b[0m\u001b[A\n",
      "yolo_hagRID_int8.dlc: 100%|\u001b[34m████████████████████████████████████████████████████████████████████████████████████████████\u001b[0m| 2.78M/2.78M [00:00<00:00, 3.97MB/s]\u001b[0m\u001b[A"
     ]
    },
    {
     "name": "stdout",
     "output_type": "stream",
     "text": [
      "Downloaded model to assets/models/yolo_hagRID_int8.dlc\n",
      "✅ Model downloaded and saved to: assets/models/yolo_hagRID_int8.dlc\n"
     ]
    },
    {
     "name": "stderr",
     "output_type": "stream",
     "text": [
      "\n"
     ]
    }
   ],
   "source": [
    "# Download and save to your specified path\n",
    "target_model = compile_job.get_target_model()\n",
    "model_path = 'assets/models/yolo_hagRID_int8.dlc'\n",
    "target_model.download(model_path)\n",
    "\n",
    "print(f\"✅ Model downloaded and saved to: {model_path}\")"
   ]
  }
 ],
 "metadata": {
  "kernelspec": {
   "display_name": "Python 3 (ipykernel)",
   "language": "python",
   "name": "python3"
  },
  "language_info": {
   "codemirror_mode": {
    "name": "ipython",
    "version": 3
   },
   "file_extension": ".py",
   "mimetype": "text/x-python",
   "name": "python",
   "nbconvert_exporter": "python",
   "pygments_lexer": "ipython3",
   "version": "3.10.18"
  }
 },
 "nbformat": 4,
 "nbformat_minor": 5
}
